{
 "cells": [
  {
   "cell_type": "markdown",
   "metadata": {},
   "source": [
    "<h2>Classification</h2>"
   ]
  },
  {
   "cell_type": "code",
   "execution_count": 1,
   "metadata": {},
   "outputs": [
    {
     "name": "stderr",
     "output_type": "stream",
     "text": [
      "[nltk_data] Downloading package wordnet to /home/samantha/nltk_data...\n",
      "[nltk_data]   Package wordnet is already up-to-date!\n"
     ]
    }
   ],
   "source": [
    "# imports\n",
    "import pandas as pd\n",
    "import numpy as np\n",
    "from import_data import *\n",
    "from util import *"
   ]
  },
  {
   "cell_type": "code",
   "execution_count": 2,
   "metadata": {},
   "outputs": [
    {
     "data": {
      "application/vnd.jupyter.widget-view+json": {
       "model_id": "903be6fd171e4d5c8321fb2f5aacc2ee",
       "version_major": 2,
       "version_minor": 0
      },
      "text/plain": [
       "  0%|          | 0/8 [00:00<?, ?it/s]"
      ]
     },
     "metadata": {},
     "output_type": "display_data"
    },
    {
     "name": "stdout",
     "output_type": "stream",
     "text": [
      "Country Cleaning Report:\n",
      "\t933 values cleaned (11.0%)\n",
      "\t37 values unable to be parsed (0.44%), set to NaN\n",
      "Result contains 8444 (99.56%) values in the correct format and 37 null values (0.44%)\n"
     ]
    },
    {
     "data": {
      "text/html": [
       "<div>\n",
       "<style scoped>\n",
       "    .dataframe tbody tr th:only-of-type {\n",
       "        vertical-align: middle;\n",
       "    }\n",
       "\n",
       "    .dataframe tbody tr th {\n",
       "        vertical-align: top;\n",
       "    }\n",
       "\n",
       "    .dataframe thead th {\n",
       "        text-align: right;\n",
       "    }\n",
       "</style>\n",
       "<table border=\"1\" class=\"dataframe\">\n",
       "  <thead>\n",
       "    <tr style=\"text-align: right;\">\n",
       "      <th></th>\n",
       "      <th>Global Code</th>\n",
       "      <th>Global Name</th>\n",
       "      <th>Region Code</th>\n",
       "      <th>Region Name</th>\n",
       "      <th>Sub-region Code</th>\n",
       "      <th>Sub-region Name</th>\n",
       "      <th>Intermediate Region Code</th>\n",
       "      <th>Intermediate Region Name</th>\n",
       "      <th>Country or Area</th>\n",
       "      <th>M49 Code</th>\n",
       "      <th>...</th>\n",
       "      <th>Least Developed Countries (LDC)</th>\n",
       "      <th>Land Locked Developing Countries (LLDC)</th>\n",
       "      <th>Small Island Developing States (SIDS)</th>\n",
       "      <th>Developed / Developing Countries</th>\n",
       "      <th>Session</th>\n",
       "      <th>Year</th>\n",
       "      <th>Speech</th>\n",
       "      <th>hdi_score</th>\n",
       "      <th>hdi_class</th>\n",
       "      <th>country_cleaned</th>\n",
       "    </tr>\n",
       "  </thead>\n",
       "  <tbody>\n",
       "    <tr>\n",
       "      <th>0</th>\n",
       "      <td>1.0</td>\n",
       "      <td>World</td>\n",
       "      <td>142.0</td>\n",
       "      <td>Asia</td>\n",
       "      <td>34.0</td>\n",
       "      <td>Southern Asia</td>\n",
       "      <td>NaN</td>\n",
       "      <td>NaN</td>\n",
       "      <td>Afghanistan</td>\n",
       "      <td>4.0</td>\n",
       "      <td>...</td>\n",
       "      <td>x</td>\n",
       "      <td>x</td>\n",
       "      <td>NaN</td>\n",
       "      <td>Developing</td>\n",
       "      <td>45</td>\n",
       "      <td>1990</td>\n",
       "      <td>﻿Allow me, first of all, Sir, to congratulate ...</td>\n",
       "      <td>0.302</td>\n",
       "      <td>low</td>\n",
       "      <td>Afghanistan</td>\n",
       "    </tr>\n",
       "    <tr>\n",
       "      <th>1</th>\n",
       "      <td>1.0</td>\n",
       "      <td>World</td>\n",
       "      <td>150.0</td>\n",
       "      <td>Europe</td>\n",
       "      <td>39.0</td>\n",
       "      <td>Southern Europe</td>\n",
       "      <td>NaN</td>\n",
       "      <td>NaN</td>\n",
       "      <td>Albania</td>\n",
       "      <td>8.0</td>\n",
       "      <td>...</td>\n",
       "      <td>NaN</td>\n",
       "      <td>NaN</td>\n",
       "      <td>NaN</td>\n",
       "      <td>Developed</td>\n",
       "      <td>45</td>\n",
       "      <td>1990</td>\n",
       "      <td>﻿It is a special pleasure for me to speak at t...</td>\n",
       "      <td>0.650</td>\n",
       "      <td>medium</td>\n",
       "      <td>Albania</td>\n",
       "    </tr>\n",
       "    <tr>\n",
       "      <th>2</th>\n",
       "      <td>1.0</td>\n",
       "      <td>World</td>\n",
       "      <td>142.0</td>\n",
       "      <td>Asia</td>\n",
       "      <td>145.0</td>\n",
       "      <td>Western Asia</td>\n",
       "      <td>NaN</td>\n",
       "      <td>NaN</td>\n",
       "      <td>United Arab Emirates</td>\n",
       "      <td>784.0</td>\n",
       "      <td>...</td>\n",
       "      <td>NaN</td>\n",
       "      <td>NaN</td>\n",
       "      <td>NaN</td>\n",
       "      <td>Developing</td>\n",
       "      <td>45</td>\n",
       "      <td>1990</td>\n",
       "      <td>﻿\\nMr. President, on behalf of the delegation ...</td>\n",
       "      <td>0.723</td>\n",
       "      <td>high</td>\n",
       "      <td>United Arab Emirates</td>\n",
       "    </tr>\n",
       "    <tr>\n",
       "      <th>3</th>\n",
       "      <td>1.0</td>\n",
       "      <td>World</td>\n",
       "      <td>19.0</td>\n",
       "      <td>Americas</td>\n",
       "      <td>419.0</td>\n",
       "      <td>Latin America and the Caribbean</td>\n",
       "      <td>5.0</td>\n",
       "      <td>South America</td>\n",
       "      <td>Argentina</td>\n",
       "      <td>32.0</td>\n",
       "      <td>...</td>\n",
       "      <td>NaN</td>\n",
       "      <td>NaN</td>\n",
       "      <td>NaN</td>\n",
       "      <td>Developing</td>\n",
       "      <td>45</td>\n",
       "      <td>1990</td>\n",
       "      <td>﻿At the outset, let me convey to you, Sir, my ...</td>\n",
       "      <td>0.718</td>\n",
       "      <td>high</td>\n",
       "      <td>Argentina</td>\n",
       "    </tr>\n",
       "    <tr>\n",
       "      <th>4</th>\n",
       "      <td>1.0</td>\n",
       "      <td>World</td>\n",
       "      <td>9.0</td>\n",
       "      <td>Oceania</td>\n",
       "      <td>53.0</td>\n",
       "      <td>Australia and New Zealand</td>\n",
       "      <td>NaN</td>\n",
       "      <td>NaN</td>\n",
       "      <td>Australia</td>\n",
       "      <td>36.0</td>\n",
       "      <td>...</td>\n",
       "      <td>NaN</td>\n",
       "      <td>NaN</td>\n",
       "      <td>NaN</td>\n",
       "      <td>Developed</td>\n",
       "      <td>45</td>\n",
       "      <td>1990</td>\n",
       "      <td>﻿It is with great pleasure. Sir, that I congra...</td>\n",
       "      <td>0.871</td>\n",
       "      <td>very high</td>\n",
       "      <td>Australia</td>\n",
       "    </tr>\n",
       "  </tbody>\n",
       "</table>\n",
       "<p>5 rows × 22 columns</p>\n",
       "</div>"
      ],
      "text/plain": [
       "   Global Code Global Name  Region Code Region Name  Sub-region Code  \\\n",
       "0          1.0       World        142.0        Asia             34.0   \n",
       "1          1.0       World        150.0      Europe             39.0   \n",
       "2          1.0       World        142.0        Asia            145.0   \n",
       "3          1.0       World         19.0    Americas            419.0   \n",
       "4          1.0       World          9.0     Oceania             53.0   \n",
       "\n",
       "                   Sub-region Name  Intermediate Region Code  \\\n",
       "0                    Southern Asia                       NaN   \n",
       "1                  Southern Europe                       NaN   \n",
       "2                     Western Asia                       NaN   \n",
       "3  Latin America and the Caribbean                       5.0   \n",
       "4        Australia and New Zealand                       NaN   \n",
       "\n",
       "  Intermediate Region Name       Country or Area  M49 Code  ...  \\\n",
       "0                      NaN           Afghanistan       4.0  ...   \n",
       "1                      NaN               Albania       8.0  ...   \n",
       "2                      NaN  United Arab Emirates     784.0  ...   \n",
       "3            South America             Argentina      32.0  ...   \n",
       "4                      NaN             Australia      36.0  ...   \n",
       "\n",
       "  Least Developed Countries (LDC) Land Locked Developing Countries (LLDC)  \\\n",
       "0                               x                                       x   \n",
       "1                             NaN                                     NaN   \n",
       "2                             NaN                                     NaN   \n",
       "3                             NaN                                     NaN   \n",
       "4                             NaN                                     NaN   \n",
       "\n",
       "  Small Island Developing States (SIDS) Developed / Developing Countries  \\\n",
       "0                                   NaN                       Developing   \n",
       "1                                   NaN                        Developed   \n",
       "2                                   NaN                       Developing   \n",
       "3                                   NaN                       Developing   \n",
       "4                                   NaN                        Developed   \n",
       "\n",
       "  Session  Year                                             Speech  hdi_score  \\\n",
       "0      45  1990  ﻿Allow me, first of all, Sir, to congratulate ...      0.302   \n",
       "1      45  1990  ﻿It is a special pleasure for me to speak at t...      0.650   \n",
       "2      45  1990  ﻿\\nMr. President, on behalf of the delegation ...      0.723   \n",
       "3      45  1990  ﻿At the outset, let me convey to you, Sir, my ...      0.718   \n",
       "4      45  1990  ﻿It is with great pleasure. Sir, that I congra...      0.871   \n",
       "\n",
       "   hdi_class       country_cleaned  \n",
       "0        low           Afghanistan  \n",
       "1     medium               Albania  \n",
       "2       high  United Arab Emirates  \n",
       "3       high             Argentina  \n",
       "4  very high             Australia  \n",
       "\n",
       "[5 rows x 22 columns]"
      ]
     },
     "execution_count": 2,
     "metadata": {},
     "output_type": "execute_result"
    }
   ],
   "source": [
    "# create dataframe\n",
    "df = import_merge()\n",
    "df = clean_dataframe(df)\n",
    "\n",
    "# drop rows where hdi_score is Nan\n",
    "df = df[df['hdi_score'].notna()]\n",
    "df = df.reset_index(drop=True)\n",
    "df.head()"
   ]
  },
  {
   "cell_type": "markdown",
   "metadata": {},
   "source": [
    "<h3>Text Processing</h3>\n"
   ]
  },
  {
   "cell_type": "code",
   "execution_count": 3,
   "metadata": {},
   "outputs": [],
   "source": [
    "# remove all names from the speeches\n",
    "df['SpeechNoNames'] = df['Speech'].apply(remove_names)\n",
    "\n",
    "# text processing\n",
    "df['Speech'] = df['Speech'].apply(clean_string).apply(remove_stopwords)\n",
    "df['SpeechNoNames'] = df['SpeechNoNames'].apply(clean_string).apply(remove_stopwords)"
   ]
  },
  {
   "cell_type": "code",
   "execution_count": 4,
   "metadata": {},
   "outputs": [],
   "source": [
    "# remove all words that only occur once in the whole dataframe\n",
    "df['Speech'] = remove_single_occurence(df['Speech'])\n",
    "df['SpeechNoNames'] = remove_single_occurence(df['SpeechNoNames'])"
   ]
  },
  {
   "cell_type": "code",
   "execution_count": 5,
   "metadata": {},
   "outputs": [],
   "source": [
    "# convert list to string\n",
    "df['Speech'] = df['Speech'].apply(lambda x: ' '.join(x))\n",
    "df['SpeechNoNames'] = df['SpeechNoNames'].apply(lambda x: ' '.join(x))"
   ]
  },
  {
   "cell_type": "code",
   "execution_count": 6,
   "metadata": {},
   "outputs": [
    {
     "name": "stderr",
     "output_type": "stream",
     "text": [
      "/home/samantha/.local/lib/python3.8/site-packages/sklearn/utils/deprecation.py:87: FutureWarning: Function get_feature_names is deprecated; get_feature_names is deprecated in 1.0 and will be removed in 1.2. Please use get_feature_names_out instead.\n",
      "  warnings.warn(msg, category=FutureWarning)\n"
     ]
    }
   ],
   "source": [
    "# make dataframes of the tf-idf of the words in each speech\n",
    "df_tfidf = tf_idf(df['Speech'])\n",
    "df_tfidfNoNames = tf_idf(df['SpeechNoNames'])"
   ]
  },
  {
   "cell_type": "code",
   "execution_count": 7,
   "metadata": {},
   "outputs": [],
   "source": [
    "# get the features and the target for the classification\n",
    "features = df_tfidf\n",
    "featuresNoNames = df_tfidfNoNames\n",
    "\n",
    "target = df['hdi_class']"
   ]
  },
  {
   "cell_type": "code",
   "execution_count": 8,
   "metadata": {},
   "outputs": [],
   "source": [
    "# create the logistic regression model and predict\n",
    "pred, classes, weights, accuracy, precision, recall = logreg(features, target)\n",
    "predNN, classesNN, weightsNN, accuracyNN, precisionNN, recallNN = logreg(featuresNoNames, target)"
   ]
  },
  {
   "cell_type": "code",
   "execution_count": 9,
   "metadata": {},
   "outputs": [
    {
     "name": "stdout",
     "output_type": "stream",
     "text": [
      "Accuracy logistic regression model:  0.8120603015075377\n",
      "Accuracy logistic regression model without names:  0.7065326633165829\n",
      "Precision logistic regression model:  [0.75319149 0.89705882 0.73705179 0.85232068]\n",
      "Precision logistic regression model without names:  [0.62173913 0.80656934 0.61445783 0.76859504]\n",
      "Recall logistic regression model:  [0.74369748 0.89377289 0.74297189 0.85957447]\n",
      "Recall logistic regression model without names:  [0.60084034 0.80952381 0.61445783 0.79148936]\n"
     ]
    }
   ],
   "source": [
    "print('Accuracy logistic regression model: ', accuracy)\n",
    "print('Accuracy logistic regression model without names: ', accuracyNN)\n",
    "\n",
    "print('Precision logistic regression model: ', precision)\n",
    "print('Precision logistic regression model without names: ', precisionNN)\n",
    "\n",
    "print('Recall logistic regression model: ', recall)\n",
    "print('Recall logistic regression model without names: ', recallNN)"
   ]
  },
  {
   "cell_type": "code",
   "execution_count": 17,
   "metadata": {},
   "outputs": [
    {
     "name": "stderr",
     "output_type": "stream",
     "text": [
      "[nltk_data] Downloading package wordnet to /home/samantha/nltk_data...\n",
      "[nltk_data]   Package wordnet is already up-to-date!\n"
     ]
    }
   ],
   "source": [
    "\n",
    "# import sys\n",
    "# import util\n",
    "# del sys.modules[\"util\"]\n",
    "# from util import *\n",
    "\n",
    "n = 5\n",
    "\n",
    "# calcualte the top n most distincive words for each class\n",
    "class_words_dict = top_n_distinctive_words(n, df_tfidf, classes, weights)\n",
    "class_words_dictNN = top_n_distinctive_words(n, df_tfidfNoNames, classesNN, weightsNN)"
   ]
  },
  {
   "cell_type": "code",
   "execution_count": 18,
   "metadata": {},
   "outputs": [
    {
     "name": "stdout",
     "output_type": "stream",
     "text": [
      "With names:\n",
      "high\n",
      "lebanese, carib, sexually, kutesas, mexicans\n",
      "\n",
      "\n",
      "low\n",
      "yeltsins, paperwork, africa, guilty, afresh\n",
      "\n",
      "\n",
      "medium\n",
      "philippine, guy, fw, namgyel, egregious\n",
      "\n",
      "\n",
      "very high\n",
      "zeal, humanistic, janus, bahama, europe\n",
      "\n",
      "\n",
      "Without names:\n",
      "high\n",
      "natal, aggressed, region, slurs, islamic\n",
      "\n",
      "\n",
      "low\n",
      "election, partnering, subprime, pays, delegating\n",
      "\n",
      "\n",
      "medium\n",
      "democrat, soccer, drudgery, graduating, penury\n",
      "\n",
      "\n",
      "very high\n",
      "valued, necks, humanistic, responsibilities, rightness\n",
      "\n",
      "\n"
     ]
    }
   ],
   "source": [
    "# print the top n most distinctive words for classification\n",
    "print('With names:')\n",
    "display_words(class_words_dict)\n",
    "print('Without names:')\n",
    "display_words(class_words_dictNN)"
   ]
  }
 ],
 "metadata": {
  "kernelspec": {
   "display_name": "Python 3.8.9 64-bit",
   "language": "python",
   "name": "python3"
  },
  "language_info": {
   "codemirror_mode": {
    "name": "ipython",
    "version": 3
   },
   "file_extension": ".py",
   "mimetype": "text/x-python",
   "name": "python",
   "nbconvert_exporter": "python",
   "pygments_lexer": "ipython3",
   "version": "3.8.9"
  },
  "vscode": {
   "interpreter": {
    "hash": "31f2aee4e71d21fbe5cf8b01ff0e069b9275f58929596ceb00d14d90e3e16cd6"
   }
  }
 },
 "nbformat": 4,
 "nbformat_minor": 2
}
